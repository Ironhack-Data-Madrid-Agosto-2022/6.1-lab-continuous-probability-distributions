{
 "cells": [
  {
   "cell_type": "markdown",
   "metadata": {
    "toc": true
   },
   "source": [
    "<h1>Table of Contents<span class=\"tocSkip\"></span></h1>\n",
    "<div class=\"toc\"><ul class=\"toc-item\"><li><span><a href=\"#Before-your-start:\" data-toc-modified-id=\"Before-your-start:-1\"><span class=\"toc-item-num\">1&nbsp;&nbsp;</span>Before your start:</a></span><ul class=\"toc-item\"><li><span><a href=\"#Uniform-Distribution\" data-toc-modified-id=\"Uniform-Distribution-1.1\"><span class=\"toc-item-num\">1.1&nbsp;&nbsp;</span>Uniform Distribution</a></span></li><li><span><a href=\"#Normal-Distribution\" data-toc-modified-id=\"Normal-Distribution-1.2\"><span class=\"toc-item-num\">1.2&nbsp;&nbsp;</span>Normal Distribution</a></span></li><li><span><a href=\"#Normal-Distribution-of-Real-Data\" data-toc-modified-id=\"Normal-Distribution-of-Real-Data-1.3\"><span class=\"toc-item-num\">1.3&nbsp;&nbsp;</span>Normal Distribution of Real Data</a></span></li><li><span><a href=\"#Exponential-Distribution\" data-toc-modified-id=\"Exponential-Distribution-1.4\"><span class=\"toc-item-num\">1.4&nbsp;&nbsp;</span>Exponential Distribution</a></span></li><li><span><a href=\"#Exponential-Distribution-of-Real-Data\" data-toc-modified-id=\"Exponential-Distribution-of-Real-Data-1.5\"><span class=\"toc-item-num\">1.5&nbsp;&nbsp;</span>Exponential Distribution of Real Data</a></span></li></ul></li></ul></div>"
   ]
  },
  {
   "cell_type": "markdown",
   "metadata": {},
   "source": [
    "# Before your start:\n",
    "\n",
    "    Read the README.md file\n",
    "    Comment as much as you can and use the resources (README.md file)\n",
    "    Happy learning!"
   ]
  },
  {
   "cell_type": "markdown",
   "metadata": {},
   "source": [
    "In this exercise, we  will generate random numbers from the continuous disributions we learned in the lesson. There are two ways to generate random numbers:\n",
    "\n",
    "1. Using the numpy library \n",
    "1. using the Scipy library \n",
    "\n",
    "Use either or both of the lbraries in this exercise."
   ]
  },
  {
   "cell_type": "markdown",
   "metadata": {},
   "source": [
    "## Uniform Distribution\n",
    "\n",
    "To generate uniform random numbers between any two given values using scipy, we can either use the following code or the code that we have\n",
    "discussed in class:"
   ]
  },
  {
   "cell_type": "code",
   "execution_count": 1,
   "metadata": {},
   "outputs": [
    {
     "name": "stdout",
     "output_type": "stream",
     "text": [
      "[2.77752896 2.4110608  2.67602969 2.55810946 2.67288796 2.12375489\n",
      " 2.18103349 2.79061384 2.5608305  2.45681293]\n"
     ]
    }
   ],
   "source": [
    "from scipy.stats import uniform\n",
    "x = uniform.rvs(size=10)\n",
    "a = 2\n",
    "b = 3\n",
    "randoms  = a + (b-a)*x\n",
    "print(randoms)"
   ]
  },
  {
   "cell_type": "markdown",
   "metadata": {},
   "source": [
    "**Your task:**\n",
    "\n",
    "1. Based on the code above, write a function that generates uniformly distributed random numbers. There are several requirements for your function:\n",
    "    * It should accept 3 parameters: \n",
    "        * `bottom` - the lower boundary of the generated numbers\n",
    "        * `ceiling` - the upper boundary of the generated numbers\n",
    "        * `count` - how many numbers to generate\n",
    "    * It should return an array of uniformly distributed random numbers\n",
    "\n",
    "1. Call your function with 2 sets of params below:\n",
    "    * bottom=10, ceiling=15, count=100\n",
    "    * bottom=10, ceiling=60, count=1,000\n",
    "\n",
    "1. Plot the uniform distributions generated above using histograms, where x axis is the value and y axis is the count. Let the histogram's number of bins be 10.\n",
    "\n",
    "Your output should look like below:\n",
    "\n",
    "![uniform distribution](ud.png)"
   ]
  },
  {
   "cell_type": "code",
   "execution_count": 3,
   "metadata": {},
   "outputs": [],
   "source": [
    "def unifo(bot, cei, count):\n",
    "    \n",
    "    x = uniform.rvs(size=count)\n",
    "    randoms  = bot + (cei-bot)*x\n",
    "    return randoms"
   ]
  },
  {
   "cell_type": "code",
   "execution_count": 4,
   "metadata": {
    "scrolled": true
   },
   "outputs": [
    {
     "data": {
      "text/plain": [
       "array([14.88772378, 11.69587367, 13.47957883, 10.08452778, 14.11168108,\n",
       "       13.12209498, 11.20017693, 14.74846862, 10.86814059, 14.82265939,\n",
       "       14.70661271, 10.28114605, 13.95994826, 12.62145159, 12.66432144,\n",
       "       10.80785491, 13.33149491, 12.52914111, 12.21192676, 14.89948322,\n",
       "       10.250746  , 11.52639696, 11.20032539, 13.00248107, 11.71507262,\n",
       "       13.58523021, 14.1223817 , 11.34684167, 14.27167416, 14.437819  ,\n",
       "       14.52551592, 12.75431338, 11.898476  , 10.86306744, 14.21859822,\n",
       "       11.89921285, 12.22934073, 12.40926489, 11.00003562, 12.34080301,\n",
       "       11.00805536, 13.12121238, 10.43375661, 12.97295565, 13.88292828,\n",
       "       12.64061784, 12.70853922, 14.53817471, 13.19592718, 14.83519279,\n",
       "       14.96722431, 12.66521318, 10.48577058, 11.7149433 , 13.19387302,\n",
       "       12.54188577, 14.10129265, 14.44241853, 10.13991003, 10.38113146,\n",
       "       11.79293179, 12.71833334, 12.02710342, 13.40709362, 10.04331305,\n",
       "       10.14892572, 13.73603555, 14.881829  , 14.27135432, 12.15056112,\n",
       "       13.70082684, 12.27589296, 12.64526648, 13.67209316, 10.5500998 ,\n",
       "       10.56996018, 13.46239363, 14.39761865, 10.53245315, 10.45713206,\n",
       "       13.95592961, 14.21143434, 13.72447026, 13.21078883, 11.60358112,\n",
       "       12.26181574, 12.89115672, 11.55088048, 12.14859198, 13.14601797,\n",
       "       14.30723085, 10.88139232, 13.25914937, 11.58392849, 13.89530763,\n",
       "       12.70946124, 11.31922644, 10.05449152, 12.71732114, 10.18865995])"
      ]
     },
     "execution_count": 4,
     "metadata": {},
     "output_type": "execute_result"
    }
   ],
   "source": [
    "unifo(10,15,100)"
   ]
  },
  {
   "cell_type": "code",
   "execution_count": 5,
   "metadata": {},
   "outputs": [
    {
     "data": {
      "text/plain": [
       "array([13.54169445, 57.44747794, 52.92410933, 20.06668485, 35.29759822,\n",
       "       16.04351496, 28.86786358, 49.95569486, 50.45713349, 25.66753549,\n",
       "       16.53800059, 38.09628488, 57.39825223, 25.15990209, 18.35555086,\n",
       "       14.52354972, 19.54930162, 55.85471433, 40.25250511, 56.82985139,\n",
       "       47.55902325, 49.90913441, 28.86378268, 21.61316406, 25.47974772,\n",
       "       50.91452765, 15.12909278, 35.51323604, 37.10617846, 12.45616996,\n",
       "       55.07446951, 25.62973388, 51.5463514 , 16.97090778, 34.66380364,\n",
       "       16.95569369, 37.81197771, 26.40674345, 42.64337824, 21.7436159 ,\n",
       "       22.07542701, 39.79457828, 20.98517949, 37.33612573, 46.4404971 ,\n",
       "       12.22645258, 10.09550525, 24.7840346 , 49.08982782, 27.68863761,\n",
       "       18.57446528, 10.11255235, 55.99859194, 54.30099617, 26.95639574,\n",
       "       48.52930081, 15.49609439, 16.58898129, 49.8083925 , 40.20810426,\n",
       "       23.91586868, 38.35813791, 39.49893534, 43.87673529, 42.46702855,\n",
       "       44.09108257, 41.53810096, 25.59466429, 41.62042799, 38.72709425,\n",
       "       46.68906386, 23.40448055, 19.86175192, 22.83826124, 28.40281189,\n",
       "       26.40465832, 44.72837094, 17.57859596, 28.407795  , 18.99950934,\n",
       "       32.40833427, 51.66265118, 10.77968784, 58.96635613, 17.42920194,\n",
       "       28.5819096 , 58.20018437, 27.84413929, 12.24262471, 49.37798411,\n",
       "       38.63283391, 59.83852132, 29.78365578, 36.6758536 , 28.66339954,\n",
       "       46.00706347, 29.22574789, 48.15363414, 49.814077  , 29.99625783,\n",
       "       52.35401311, 13.03625203, 21.81346618, 40.15918436, 47.43087599,\n",
       "       39.16668485, 29.87185723, 12.76789415, 13.10794101, 50.58375984,\n",
       "       37.08335963, 12.7918108 , 33.29876033, 59.72348127, 37.06067499,\n",
       "       17.96690811, 43.08038696, 18.93220438, 18.32567514, 19.27855774,\n",
       "       35.91698245, 44.52731406, 24.59673405, 25.68340435, 34.89486395,\n",
       "       51.92804501, 40.85918738, 29.45583469, 24.26847249, 59.66464117,\n",
       "       35.18233216, 21.8133335 , 31.78072821, 58.1962796 , 44.31413883,\n",
       "       36.47910143, 51.65848313, 54.32469979, 28.83552572, 36.86060182,\n",
       "       56.1377246 , 39.45537298, 48.43450771, 42.87338282, 52.16318056,\n",
       "       42.9259304 , 45.37407939, 37.79199125, 55.61709685, 36.30784256,\n",
       "       30.36820327, 46.47422555, 14.28949176, 22.59526017, 11.45323008,\n",
       "       58.26153322, 22.45468313, 31.25145491, 48.76493987, 47.63841278,\n",
       "       46.69821499, 14.1698025 , 37.5451115 , 23.43834783, 12.94804979,\n",
       "       34.31522079, 23.43032853, 11.63962679, 39.24737448, 32.7873411 ,\n",
       "       45.6929529 , 18.53689602, 56.31687516, 51.27500229, 55.73375793,\n",
       "       39.16301905, 57.91669316, 18.41616782, 56.2431262 , 14.39048921,\n",
       "       45.950711  , 24.28406133, 33.5506188 , 25.93678647, 26.15550371,\n",
       "       15.13668342, 31.33977405, 49.95309218, 54.80237703, 21.29864542,\n",
       "       34.07727169, 46.26209547, 17.87177456, 51.40415417, 45.90622109,\n",
       "       50.06118903, 15.15637274, 41.59034029, 13.98821169, 51.02864999,\n",
       "       52.1433439 , 25.65543188, 40.6800108 , 35.91771035, 53.05827781,\n",
       "       11.72568541, 52.96067936, 35.62100072, 52.67801912, 36.56096276,\n",
       "       49.22244977, 30.33772576, 18.96583009, 26.58401376, 42.00361379,\n",
       "       41.83153791, 19.20110527, 52.95073963, 41.75729619, 36.73297015,\n",
       "       36.93211011, 30.07310524, 13.92161631, 44.11620854, 46.6595507 ,\n",
       "       42.41590656, 14.10197305, 29.44742352, 12.4591932 , 57.8441795 ,\n",
       "       21.34176233, 16.55028806, 34.49330963, 44.63206504, 48.74447455,\n",
       "       44.73474495, 32.55499079, 24.63697262, 57.70562416, 34.10493712,\n",
       "       16.49330126, 44.81865271, 36.53942311, 48.36655506, 18.26697747,\n",
       "       55.26851822, 11.78526676, 51.76910665, 30.9797378 , 28.20084837,\n",
       "       17.25835919, 25.84395916, 27.21880523, 57.20226245, 32.91406852,\n",
       "       34.79082133, 44.88286921, 58.43906385, 32.2174771 , 33.3292441 ,\n",
       "       49.48461905, 34.72178703, 11.00915335, 29.70690088, 21.35452423,\n",
       "       22.71174244, 12.39469522, 53.14680787, 30.13578067, 59.12273182,\n",
       "       15.33811184, 53.50664007, 16.72439133, 11.41686382, 52.83622267,\n",
       "       25.75241448, 31.94059329, 23.96268198, 26.72923692, 35.91814463,\n",
       "       30.25578407, 22.88223278, 51.22972419, 58.06863441, 49.52515033,\n",
       "       42.45392787, 11.19238433, 47.5955072 , 27.56281584, 34.93979219,\n",
       "       27.24558907, 14.52331575, 30.62789161, 32.42265956, 20.80930504,\n",
       "       54.38701982, 26.8556101 , 16.148509  , 48.76067262, 41.52084496,\n",
       "       25.93637668, 43.33587875, 48.65237609, 54.16830251, 31.90166453,\n",
       "       21.55853578, 16.16978601, 28.72104451, 30.97377158, 40.78180002,\n",
       "       26.09769741, 28.04049822, 28.38987517, 23.7327699 , 15.40339883,\n",
       "       25.81212321, 10.02215369, 24.38718288, 42.84276362, 57.3586115 ,\n",
       "       50.61312902, 41.60325702, 20.63121095, 36.36483049, 46.95287392,\n",
       "       14.70675728, 39.12682418, 45.23445239, 17.16038391, 25.55111896,\n",
       "       20.55964914, 44.4126188 , 21.54950821, 20.28345342, 37.05418517,\n",
       "       28.94995885, 58.93889116, 24.99578063, 24.7068094 , 45.00550962,\n",
       "       58.09552462, 49.42710722, 28.00142111, 13.66016503, 44.94761535,\n",
       "       44.14884901, 31.0716523 , 18.41873792, 13.45012369, 35.28710477,\n",
       "       22.08668825, 11.74416137, 23.40505905, 58.79740475, 14.63665202,\n",
       "       26.4679635 , 54.89886642, 59.89114201, 31.0095072 , 12.65479292,\n",
       "       17.33729955, 51.53913721, 10.92711697, 36.86084737, 38.64028386,\n",
       "       10.73617319, 56.58900506, 57.87988463, 34.54513764, 13.72983669,\n",
       "       54.34980332, 45.97303821, 53.96155803, 19.53277987, 37.14275635,\n",
       "       46.74488421, 37.37000027, 52.82354337, 47.50169094, 45.90151215,\n",
       "       52.16891672, 23.9264043 , 17.73809986, 21.46708661, 19.46462841,\n",
       "       20.51513227, 12.95269358, 56.0086988 , 52.8564779 , 42.74006129,\n",
       "       15.69084202, 30.57558919, 26.69462551, 21.89602882, 34.57176941,\n",
       "       33.23241202, 27.68858678, 11.08259479, 27.78520866, 58.3504128 ,\n",
       "       27.66971852, 13.43134314, 59.99631195, 52.68951804, 46.03762266,\n",
       "       22.54563521, 42.38468898, 13.83147469, 52.69651526, 12.54215249,\n",
       "       52.17630298, 34.49759392, 31.86378075, 39.91319014, 30.86932659,\n",
       "       55.09535561, 14.27190879, 44.68261423, 17.94866093, 23.85211673,\n",
       "       49.9908715 , 15.15647813, 55.15063479, 31.28205592, 31.06395855,\n",
       "       54.62973238, 14.87340623, 16.30112259, 37.82223975, 54.8596733 ,\n",
       "       38.11803736, 32.78500128, 31.83480849, 26.05455925, 25.7534822 ,\n",
       "       36.05950904, 44.71834934, 22.0200094 , 10.70555633, 40.97188193,\n",
       "       53.5534643 , 47.6324257 , 43.87112008, 26.42925855, 51.84151089,\n",
       "       44.14170542, 22.28156324, 57.21649094, 32.94325396, 32.78811417,\n",
       "       10.42998258, 26.78536406, 32.45804286, 22.91579396, 21.79190481,\n",
       "       29.02295505, 14.47436222, 15.38597679, 39.70518978, 57.09986667,\n",
       "       52.41238841, 34.62548178, 37.58338805, 15.56415712, 16.07706777,\n",
       "       30.28289925, 51.491126  , 54.66957054, 41.06607068, 15.64436779,\n",
       "       49.04131316, 23.32741724, 14.21698507, 11.70729185, 32.62204465,\n",
       "       16.04486348, 37.98407705, 32.03846301, 43.36704383, 47.40733683,\n",
       "       57.33162638, 39.12501499, 53.35990349, 24.58893348, 41.87169615,\n",
       "       19.16450691, 35.12053396, 47.74558821, 37.00930318, 57.9119048 ,\n",
       "       21.90109261, 50.12667512, 43.57964287, 20.64977321, 23.77055884,\n",
       "       48.19757598, 32.4669002 , 56.27635401, 33.31702692, 11.70527847,\n",
       "       14.18910088, 32.63145415, 11.09163798, 56.66361084, 11.92716533,\n",
       "       18.88723795, 22.37009505, 33.4463049 , 28.7769683 , 15.10476782,\n",
       "       55.30411791, 40.96930837, 52.083801  , 27.6320591 , 10.24762782,\n",
       "       35.10033116, 45.35415118, 52.54216488, 31.80005614, 17.81420513,\n",
       "       53.8030925 , 23.71674888, 56.58854392, 45.37237155, 32.2427056 ,\n",
       "       55.29514519, 57.11961951, 12.49826958, 28.36685278, 48.78765868,\n",
       "       10.7697816 , 50.98215577, 51.70444471, 19.18439043, 32.10447523,\n",
       "       35.67493582, 26.68169129, 15.51012514, 36.41202641, 23.95192627,\n",
       "       45.82674967, 35.54504847, 57.04686078, 47.57078164, 19.92601152,\n",
       "       58.00176447, 55.90352608, 52.33231482, 23.15680048, 34.72875505,\n",
       "       24.69888649, 54.82855963, 33.43553298, 19.53491601, 29.93079866,\n",
       "       19.47103691, 14.1196463 , 18.97058416, 58.47431258, 51.5159286 ,\n",
       "       24.84913252, 20.18595718, 11.19008855, 39.94107246, 40.74599414,\n",
       "       44.85278278, 24.60552565, 43.72651668, 34.23862108, 22.81441531,\n",
       "       11.18029699, 20.81110081, 42.63222288, 43.71516008, 12.50536003,\n",
       "       31.04163774, 23.13301421, 37.64898407, 18.49768346, 36.32076548,\n",
       "       30.18220637, 28.8123686 , 26.50037258, 39.00795105, 12.16734159,\n",
       "       14.83945402, 21.57905171, 10.11429635, 52.09120914, 34.16675122,\n",
       "       19.22563477, 32.29008255, 38.3883636 , 10.95635791, 42.37014886,\n",
       "       46.65100666, 48.26282677, 40.65176819, 17.83833247, 32.21941518,\n",
       "       39.29341382, 29.95343358, 25.2398004 , 18.72462834, 38.95448687,\n",
       "       52.634906  , 28.90593612, 22.91625152, 56.5333427 , 23.2788393 ,\n",
       "       30.14260594, 49.08621196, 51.31474984, 49.23333978, 35.52620734,\n",
       "       36.39448997, 52.62654485, 29.0560393 , 47.86823896, 57.53100101,\n",
       "       35.57881157, 11.07245644, 43.11018978, 53.06485304, 25.29381216,\n",
       "       30.63423323, 47.38245314, 42.37776922, 21.48667092, 19.49669675,\n",
       "       27.88884227, 37.66824129, 38.45563684, 57.69657987, 28.84189586,\n",
       "       44.53986724, 43.82395152, 22.72935398, 50.83353233, 21.28982666,\n",
       "       12.09163644, 49.12412182, 52.61131692, 21.57577819, 40.82028261,\n",
       "       44.8339597 , 13.05961145, 32.80125338, 45.39698537, 18.70577443,\n",
       "       56.76514577, 38.86824213, 40.65549812, 21.45628319, 51.55995183,\n",
       "       36.92665947, 56.04893344, 43.35805449, 13.97657027, 53.14506378,\n",
       "       15.35122898, 36.01744124, 30.61380044, 43.09072888, 25.01527364,\n",
       "       29.19426355, 31.35817213, 45.12507678, 34.65225511, 35.77120377,\n",
       "       47.88394019, 14.31081073, 18.55133223, 11.12841194, 55.31283419,\n",
       "       14.61514317, 48.81604992, 37.93760546, 29.42650991, 11.09166354,\n",
       "       51.91342933, 31.76553123, 23.89394691, 27.90853498, 39.59862777,\n",
       "       39.20878646, 37.24897039, 47.44413816, 54.18852493, 27.06238416,\n",
       "       16.66639765, 58.0108514 , 28.11732075, 10.04216954, 37.98347403,\n",
       "       33.20223686, 54.47582049, 25.83056135, 13.213042  , 28.26103815,\n",
       "       18.81996232, 20.35153298, 59.63441734, 28.12982988, 42.66078557,\n",
       "       13.46857008, 51.09749722, 22.65438904, 56.70417146, 51.85334319,\n",
       "       37.40844313, 23.58544461, 14.57972092, 46.19195625, 12.23030429,\n",
       "       20.31487495, 46.34051772, 21.67057284, 18.33719861, 38.3792317 ,\n",
       "       10.8573071 , 20.70506082, 53.20126291, 51.88167546, 42.73274311,\n",
       "       43.19071989, 47.79566232, 38.22724383, 10.7501242 , 57.27740999,\n",
       "       13.97484901, 33.67173124, 50.45573768, 17.1898327 , 24.75282984,\n",
       "       41.10942048, 47.10001256, 37.96037286, 21.3364463 , 19.55064192,\n",
       "       53.06231681, 32.54847484, 29.35281242, 21.13214719, 41.99478694,\n",
       "       24.27694141, 30.90188608, 11.74342843, 28.89131355, 30.00925552,\n",
       "       48.46271661, 52.93910786, 19.77950804, 25.77884281, 27.93381059,\n",
       "       25.90257581, 26.90034293, 34.43419609, 31.73969889, 29.26694608,\n",
       "       44.40881257, 23.44288975, 52.95624026, 15.49844325, 29.39625436,\n",
       "       28.14256525, 17.80791196, 28.52371314, 15.03210776, 14.1403672 ,\n",
       "       12.02772569, 28.66602239, 43.29071105, 50.7277863 , 42.61683161,\n",
       "       21.33059962, 32.77989711, 29.35401917, 32.41081549, 57.26630002,\n",
       "       41.37501098, 59.92383479, 13.06273518, 56.23076055, 37.10368773,\n",
       "       40.63353757, 30.43118789, 10.26729364, 56.63661344, 34.07304066,\n",
       "       46.84415331, 28.53524888, 14.3802156 , 13.49491103, 37.22005682,\n",
       "       36.61202792, 44.73710964, 17.47035232, 17.86571109, 29.00529387,\n",
       "       40.69074162, 57.19056471, 12.21998703, 42.7160473 , 34.5114554 ,\n",
       "       41.99079037, 51.77598407, 50.43965036, 40.95717862, 31.87844452,\n",
       "       24.42277039, 59.70949638, 26.87803512, 51.2202594 , 48.28734653,\n",
       "       18.48128584, 39.27989879, 19.9846907 , 18.17000937, 41.45909595,\n",
       "       30.76113513, 29.59750916, 29.74872093, 32.80342624, 55.37342351,\n",
       "       17.68920675, 30.07452306, 49.82519088, 32.3702463 , 43.01104429,\n",
       "       47.36139931, 41.88102437, 24.26346253, 58.80076084, 54.47418011,\n",
       "       26.31448988, 14.58899272, 53.36341123, 39.21433966, 18.33580664,\n",
       "       45.97521958, 53.59520704, 47.50001128, 30.37815499, 11.23168365,\n",
       "       45.08693993, 28.32779965, 43.00781065, 31.47895466, 30.87530641,\n",
       "       35.06540615, 31.92128547, 18.90900675, 56.45309642, 39.04441695,\n",
       "       28.62789231, 25.57021661, 40.06663149, 19.60388705, 23.60409793,\n",
       "       24.57928821, 22.701035  , 13.89011281, 24.1807276 , 51.22418517,\n",
       "       36.61468143, 48.24692856, 36.40439004, 57.23897668, 32.4737254 ,\n",
       "       57.774203  , 44.21681833, 59.31973704, 33.32260273, 22.4135872 ,\n",
       "       22.06186332, 28.61223407, 54.57255665, 49.3372083 , 36.71904525,\n",
       "       36.79508225, 59.8348906 , 19.86173494, 58.20771003, 20.20732656,\n",
       "       20.63404395, 23.48242571, 45.06924152, 56.61136462, 10.5830766 ,\n",
       "       18.13566974, 55.22069654, 47.06339912, 39.6242218 , 54.35819018,\n",
       "       30.68106955, 54.73954564, 34.15295136, 17.70535184, 35.63543585,\n",
       "       24.84265218, 40.50440638, 50.7259319 , 12.26968161, 46.6212742 ,\n",
       "       38.47986599, 41.8924695 , 23.41581792, 20.44335134, 18.39492634,\n",
       "       14.60039351, 23.97305936, 27.48082866, 29.55540608, 58.97345326,\n",
       "       49.10737621, 26.43771605, 34.1569298 , 42.57653995, 31.14625476,\n",
       "       25.29533618, 13.08064533, 51.96174456, 36.66439163, 25.68921364,\n",
       "       40.54393856, 42.50805174, 45.16054152, 17.67761173, 24.62462847,\n",
       "       39.49581479, 43.49038196, 44.36465161, 28.6157651 , 34.86846561,\n",
       "       19.70771815, 37.137372  , 57.69062299, 44.45782974, 26.10431124,\n",
       "       53.9170762 , 27.29868064, 49.55335729, 53.13860324, 16.59225642,\n",
       "       58.77100593, 43.73342517, 28.72603492, 20.20778798, 20.01985085,\n",
       "       57.31283117, 19.00659055, 12.44942508, 40.47137844, 58.18573701,\n",
       "       58.53174186, 12.74229845, 50.91728048, 25.98361198, 16.98605191,\n",
       "       31.08670517, 56.31443029, 28.573046  , 50.69600965, 31.71148202,\n",
       "       47.81280326, 20.74517253, 55.32346556, 12.84580012, 48.06201404,\n",
       "       19.33558376, 55.15930605, 49.03843721, 55.8441827 , 23.93598013,\n",
       "       52.58638785, 49.49574126, 50.42383924, 52.5486404 , 37.06824839,\n",
       "       32.58242013, 23.02970465, 43.66413532, 32.53191804, 49.4980313 ,\n",
       "       34.73656252, 17.52679531, 47.72992719, 44.86141601, 18.75368517,\n",
       "       28.59263972, 19.04196927, 52.80059567, 35.64534311, 32.60211951,\n",
       "       31.26214789, 19.57175807, 26.8206327 , 19.13466949, 59.30997382])"
      ]
     },
     "execution_count": 5,
     "metadata": {},
     "output_type": "execute_result"
    }
   ],
   "source": [
    "unifo(10,60,1000)"
   ]
  },
  {
   "cell_type": "markdown",
   "metadata": {},
   "source": [
    "How are the two distributions different?"
   ]
  },
  {
   "cell_type": "code",
   "execution_count": 11,
   "metadata": {
    "scrolled": true
   },
   "outputs": [
    {
     "data": {
      "image/png": "[encoded data removed]",
      "text/plain": [
       "<Figure size 432x288 with 1 Axes>"
      ]
     },
     "metadata": {
      "needs_background": "light"
     },
     "output_type": "display_data"
    }
   ],
   "source": [
    "import pylab as plt\n",
    "import seaborn as sns\n",
    "\n",
    "sns.histplot(unifo(10,15,100), bins=10);"
   ]
  },
  {
   "cell_type": "code",
   "execution_count": 12,
   "metadata": {},
   "outputs": [
    {
     "data": {
      "image/png": "[encoded data removed]",
      "text/plain": [
       "<Figure size 432x288 with 1 Axes>"
      ]
     },
     "metadata": {
      "needs_background": "light"
     },
     "output_type": "display_data"
    }
   ],
   "source": [
    "sns.histplot(unifo(10,60,1000), bins=10);"
   ]
  },
  {
   "cell_type": "markdown",
   "metadata": {},
   "source": [
    "## Normal Distribution\n",
    "\n",
    "1. In the same way in the Uniform Distribution challenge, write a function that generates normally distributed random numbers.\n",
    "1. Generate 1,000 normally distributed numbers with the average of 10 and standard deviation of 1\n",
    "1. Generate 1,000 normally distributed numbers with the average of 10 and standard deviation of 50\n",
    "2. Plot the distributions of the data generated.\n",
    "\n",
    "Expected output:\n",
    "\n",
    "![normal distribution](nd.png)"
   ]
  },
  {
   "cell_type": "code",
   "execution_count": 23,
   "metadata": {},
   "outputs": [],
   "source": [
    "from scipy.stats import norm\n",
    "\n",
    "def normal(loc, scale, size):\n",
    "    \n",
    "    dis = norm(loc=loc, scale=scale)\n",
    "    return dis.rvs(size=size)"
   ]
  },
  {
   "cell_type": "code",
   "execution_count": 41,
   "metadata": {},
   "outputs": [
    {
     "data": {
      "text/plain": [
       "array([10.41151183, 10.17820162,  9.34928824,  8.4369059 , 11.5969332 ,\n",
       "        9.70897512, 11.46524081,  8.84351015, 10.08962376, 10.81435012,\n",
       "        9.04688465, 11.09784931,  9.1141461 ,  9.45076247, 11.0567891 ,\n",
       "        9.97861784,  8.39911594,  8.40425336,  9.6821546 ,  9.97275813,\n",
       "        8.74757385,  9.77957426,  9.05207469,  7.48970434,  7.68222633,\n",
       "        9.69201231, 10.09634919, 10.10983399, 11.54669843,  9.66704202,\n",
       "       10.30624536, 10.52088573, 10.54379602,  9.62115539,  9.61608001,\n",
       "        9.74406272,  9.47170412, 11.14148831,  9.47361685,  9.4618863 ,\n",
       "       11.83961791,  9.73235556, 10.74345836, 10.00728745,  8.04593024,\n",
       "        9.43717778,  8.26479923, 11.55828182, 11.21711249, 10.51847938,\n",
       "       10.3979352 ,  9.61151807, 10.95082235,  9.47898326, 11.45391055,\n",
       "       10.96674562, 11.70296699, 10.63738657,  9.14877461, 10.03576086,\n",
       "       10.00352437, 10.88710326,  9.17596311,  8.78960051,  9.69301949,\n",
       "       10.2094373 ,  9.43113013,  7.16097542,  9.65823936,  8.89972528,\n",
       "        9.09802067,  9.79634889, 11.30765703, 10.775843  ,  8.70268106,\n",
       "        9.29294423, 10.74847742,  8.25954372, 11.02221674, 10.29279113,\n",
       "       10.4220695 ,  9.9255585 ,  9.8004233 ,  9.42602542,  8.87003137,\n",
       "       11.05161762,  9.96700519,  9.82317302, 11.29114922, 10.74137998,\n",
       "       10.58730708,  9.44055306, 11.0274867 , 11.3906236 ,  9.73599891,\n",
       "       12.15812885, 10.22658172,  9.64659786,  9.8671018 ,  9.98129757,\n",
       "       11.37069982, 10.3943228 , 11.61484601, 10.85362125, 11.25720146,\n",
       "        7.78613946, 10.46448254, 10.78378666,  9.40071436,  9.49471818,\n",
       "        9.66695233,  8.03908608,  9.94363922, 10.120131  ,  8.53156003,\n",
       "       10.90782799, 10.92861747, 11.27840215,  9.70541899, 12.08079571,\n",
       "        9.10405466, 10.64240584, 10.38378494,  9.63859874,  9.57836453,\n",
       "       10.42956586, 10.54827635, 11.13376757, 10.36922292,  8.88351939,\n",
       "        9.8792469 ,  9.90966625, 10.0299059 , 10.04979289,  9.95105595,\n",
       "       11.30692318, 10.06830391,  9.24708915, 10.56459551,  9.62740915,\n",
       "       10.05097964,  9.68326476, 10.3891947 ,  9.43791108,  9.9186704 ,\n",
       "        8.24623159, 10.60312754,  9.15460816, 10.91178332, 10.46960998,\n",
       "       10.00210816, 10.96140767, 10.80730941,  8.96149759, 10.51992098,\n",
       "        8.68040475,  9.56489139, 10.8425145 , 10.12846067, 10.60240729,\n",
       "       11.05154538,  9.46963629, 10.93554952, 10.1886416 , 10.43264987,\n",
       "        9.96074761, 10.92592322,  9.47958281, 11.34888315, 10.64662395,\n",
       "       10.44047348,  9.7519326 ,  9.39200777,  8.4289721 , 10.46907199,\n",
       "        8.27528885,  9.76070679,  9.92889718, 10.48774978,  9.62992752,\n",
       "        7.84758846,  9.58775612, 11.17124663, 10.41389809, 10.02519774,\n",
       "       11.28860284, 10.25736373, 10.60531535,  9.94486721, 11.25125723,\n",
       "       10.19583328,  9.52250044, 11.14232531, 10.15864711, 10.31911376,\n",
       "       10.99920108,  9.88216222, 12.27660338, 12.35960506,  9.38688925,\n",
       "       10.74536167, 10.99830119, 10.45101989, 10.48864618, 10.3705803 ,\n",
       "       10.44809599,  9.24860658,  9.24730539, 11.19494463, 10.08870271,\n",
       "        9.56338562, 12.23733681,  7.53901468, 11.45877996,  8.97655295,\n",
       "        8.99255312,  8.11539751,  9.36607858,  9.79476691,  9.14051942,\n",
       "       10.23475018,  9.88955932,  9.9398186 ,  8.97207636,  8.86897883,\n",
       "       10.70774856,  9.01724996,  9.227288  ,  9.69413683,  9.78118908,\n",
       "        9.02880389, 11.52102922, 10.34930063, 10.18258269, 10.56982812,\n",
       "        8.82841314,  9.94864664,  8.67556723, 11.00402636, 11.01950668,\n",
       "       11.38135404, 10.42654943, 10.06768426,  9.45350921,  8.87990498,\n",
       "       10.60431752,  8.48782233,  9.08126219, 10.33082731, 10.17312559,\n",
       "       10.8294223 , 10.03942035,  8.94752733,  8.64294913,  8.95762635,\n",
       "        8.82540142,  8.30472431,  8.60483994,  9.48831618, 10.62097729,\n",
       "        8.88148896, 11.06075095,  8.26000348, 10.42234547, 10.46633555,\n",
       "        8.72804096, 11.42084907, 10.21644807, 11.41623468,  9.73501812,\n",
       "       11.32078155, 10.54041026,  9.9074704 ,  8.40311871, 10.89653446,\n",
       "        9.93238483, 10.60529302,  9.43132222,  9.69155176,  9.25311397,\n",
       "        9.67576326, 10.53901765, 10.06789064, 10.43596733, 11.65612424,\n",
       "       10.38442339,  9.73516827,  8.21300284,  8.48572885,  9.65417243,\n",
       "        9.67785287,  7.91748467, 10.81113175, 10.25128539,  9.81656981,\n",
       "       10.64383559,  9.18042399, 10.19332025, 11.2258464 , 10.38565594,\n",
       "        9.47634941, 11.73358595,  9.06869705, 10.33320062, 10.25319784,\n",
       "       10.90079581,  9.50611224, 11.16504156,  8.60799928,  8.88192589,\n",
       "        8.77454553, 10.64252083,  8.00394234,  9.75618353, 10.35382215,\n",
       "        8.79893074,  9.48841273,  9.53351694, 10.09223669, 10.09013371,\n",
       "       11.3543357 ,  9.24860901, 11.84224541,  9.97505032, 10.47127365,\n",
       "        9.61397779, 10.01866661, 10.97838219, 12.68927225, 10.04130753,\n",
       "        8.60633611,  9.64577655,  8.26447604, 10.75593372,  8.33730549,\n",
       "        9.88166846, 10.67267248, 11.10020862, 11.83304158,  9.08291946,\n",
       "       11.59752032, 11.1711382 , 11.92567622, 10.74810606,  9.3644008 ,\n",
       "        8.11704461,  8.40749285,  8.25209713,  9.98043412, 10.21203104,\n",
       "       10.47249643,  9.59174435,  9.81249647,  9.66510306, 10.36763922,\n",
       "       11.12921578, 11.39452128,  9.43996261,  8.81448605, 10.43655726,\n",
       "        9.66439683,  9.1747276 , 12.63646246, 11.65219116,  9.48710165,\n",
       "       10.91990556,  8.63587366, 10.58604211, 10.65731273,  9.96444471,\n",
       "        9.34073979,  9.06100922,  8.74409816, 10.6351964 ,  9.60360113,\n",
       "        9.00076194,  8.7614448 ,  7.66367031,  9.66260368,  9.93128382,\n",
       "       11.0477802 ,  9.08838722,  8.73915874, 11.23699078,  9.9795873 ,\n",
       "        9.92924994, 10.23246613, 10.23900612,  9.3092928 , 10.33024886,\n",
       "        9.74322999, 10.25349063,  9.51323416,  8.41139141,  9.46956849,\n",
       "       11.06093022,  8.77752478, 10.71227968,  9.62549014,  8.07421848,\n",
       "        9.75087973, 11.45923442,  9.65670024,  9.6706882 , 10.99873379,\n",
       "       11.01171438, 10.37670368,  9.50754558, 10.74711997, 10.08857299,\n",
       "       10.11876425,  9.24108421,  9.84347466, 10.10584158, 11.4130974 ,\n",
       "       10.59241553, 10.14948964, 11.64100389,  9.23477045, 10.21703005,\n",
       "        8.68593128, 10.36049245, 10.93027961, 10.10891572,  9.60732225,\n",
       "       11.10125169, 10.93186484,  9.27399088, 11.30189566,  9.98687855,\n",
       "       10.53815268, 10.86822321,  9.70229981, 10.67843869, 10.1290678 ,\n",
       "       10.5458745 , 12.77199522, 10.65388375,  9.21246409,  9.47771762,\n",
       "       10.77153012, 10.98342593,  8.74547256,  9.28855343, 10.31846652,\n",
       "       12.29921165, 11.02801819, 11.31165693, 10.26236714,  9.48862965,\n",
       "       10.86623955,  9.34287564,  8.92648607, 11.51151541,  9.88468544,\n",
       "        9.23092651,  9.23350304, 10.8923466 ,  9.44982506, 10.61474657,\n",
       "       10.23086807, 11.78695732, 11.72215821,  9.68751077,  8.73552267,\n",
       "        8.56807642, 10.77086238,  9.47439908,  9.35805592, 10.06807664,\n",
       "        9.17151993,  9.01079806,  9.31946451,  9.21409058,  8.75762703,\n",
       "        9.10012644, 10.16013683,  8.6125557 , 10.72362995,  9.95375643,\n",
       "       11.5690035 , 10.61220523,  9.34907551, 10.24204452, 11.81196681,\n",
       "        9.40088312, 10.23149077,  9.58531366,  9.86039111,  8.74631597,\n",
       "        7.49814621, 10.14213915, 11.22417634,  9.38183037, 10.36567347,\n",
       "       10.61912747, 10.53660913,  9.29146474, 10.37595067, 11.22271301,\n",
       "       11.32488866,  9.12323328,  9.4291099 , 10.5919107 ,  9.86724024,\n",
       "       11.66343758,  9.73170076, 11.26149213,  8.88638627,  8.87551339,\n",
       "        8.96249157,  7.85924986,  9.66567618, 10.22439772, 11.24636871,\n",
       "        9.41124294, 11.60590453, 11.01935498, 10.74540579,  9.4745408 ,\n",
       "        9.02544931,  9.62401102,  8.47995009, 10.39789398,  9.69680297,\n",
       "       11.05343233, 10.00049804,  9.27923854, 10.12761111, 11.78368981,\n",
       "        9.60037937,  9.05411172, 10.37836356, 10.29450486,  8.93817123,\n",
       "       11.0339474 ,  9.44064703, 10.85501724,  9.97544177, 10.58594211,\n",
       "       10.90182719,  8.14622527, 10.03254176, 10.69732211,  9.43363211,\n",
       "       11.47078649,  9.86037178,  8.86749459, 10.78344412,  9.2878838 ,\n",
       "        9.79265067,  8.8672944 , 11.72889262, 10.10760472, 11.76592426,\n",
       "       10.08283649, 10.95874746, 10.13614956,  9.30477514, 11.74254095,\n",
       "        8.43415358, 10.77940084,  8.7696541 ,  9.84629429,  8.42899752,\n",
       "       11.42409793,  9.95631078, 11.01703887, 10.77750576,  8.97512275,\n",
       "        9.15602555,  9.56684524, 10.59545938, 11.05551245,  9.33785312,\n",
       "        9.34433381,  8.58011759, 10.55820659,  9.2751795 ,  8.7295311 ,\n",
       "        9.37379495,  8.65212903, 10.72681221,  9.61767141, 11.37303363,\n",
       "        9.54141132,  9.05788322,  9.16884246, 11.18431563,  9.16004295,\n",
       "       10.94087784, 11.15159844, 10.84364125, 10.4717246 , 10.39490117,\n",
       "       10.02059909, 11.46006547, 10.62907237, 10.45301311, 11.02063265,\n",
       "       10.27081962, 10.43297128, 10.11028264,  9.02666222,  9.28500952,\n",
       "       10.06208296, 10.86389747, 10.77958864,  9.24389419,  9.63045872,\n",
       "        9.42866018,  9.8837337 ,  8.8302075 ,  9.89267993,  8.53803499,\n",
       "        8.6167999 ,  9.85352964,  9.8064197 , 10.3075826 , 10.52620466,\n",
       "        9.42546706, 10.19167194, 10.02034053, 10.26165717,  7.80965678,\n",
       "       10.28001323, 10.89040674, 10.53012272, 10.36267844,  9.841469  ,\n",
       "       10.19255723,  9.20244785,  8.87038037,  9.32887558, 10.38301122,\n",
       "        9.88254505, 11.2922032 , 11.32073474,  9.8564456 ,  7.85669895,\n",
       "       10.94906625,  9.00006165,  8.82959202,  9.97585999, 10.92700293,\n",
       "        8.83016774, 10.11107397,  9.15639361,  8.52412584,  9.89768004,\n",
       "       10.76630249, 10.39641947, 11.28595907,  9.62879524,  9.67206442,\n",
       "        9.74665303, 10.09370596,  9.86613674,  9.76793581,  9.73515331,\n",
       "        9.80061609,  9.49400987, 10.40928021,  9.2256866 , 10.29281998,\n",
       "       10.83899351, 10.91726646, 10.68489146,  9.2945387 ,  8.48359018,\n",
       "       10.61508708, 10.56649985,  9.53255515, 10.25248098,  8.5891873 ,\n",
       "       10.483203  , 10.12242118,  9.59588194, 11.54386661,  7.40796151,\n",
       "        8.75188883,  9.86142279, 10.01777997,  8.82324318,  8.87198677,\n",
       "       10.77904225,  9.54364943,  8.56636942,  8.48401314,  8.47692384,\n",
       "        9.39854538,  9.8223365 , 10.45564816,  9.67314374,  8.78807298,\n",
       "       10.33826353, 10.31952256, 10.21797977,  8.64295559, 10.32573729,\n",
       "       11.28481019, 10.05741433, 10.08955747, 10.3591123 , 11.39492851,\n",
       "       11.75411991, 10.44626965,  9.38154294, 10.37101068, 10.36072221,\n",
       "       10.26324601, 10.74308908,  9.48777542, 10.20729048,  9.42541165,\n",
       "       10.55620091,  8.62921326, 10.4031421 , 11.38739033, 10.78728499,\n",
       "        9.42392216,  9.35584876, 10.12118828, 10.15024724, 10.53226612,\n",
       "        9.56094118, 10.55983596, 11.28402179,  9.59769233, 10.23935657,\n",
       "        9.24460071, 11.56769614, 11.42718901,  9.15812025, 10.63445505,\n",
       "       11.77653752,  9.34199841, 10.17011155,  8.55543828,  9.72805519,\n",
       "       10.66395188,  9.44899216, 10.01856293, 10.43012306, 11.10702955,\n",
       "        8.51410949, 10.99168052, 11.40786637, 10.74951706,  9.97443661,\n",
       "        7.98810983, 10.64388171,  9.70948565,  9.5652265 ,  8.61682048,\n",
       "       10.62449405,  9.1747335 , 10.0860701 , 10.10540789,  9.8101649 ,\n",
       "       12.45838077,  8.29270161,  8.50542626,  8.35313372, 10.13700108,\n",
       "       10.58071199,  8.90688295,  8.22508378, 10.52373249, 11.90942399,\n",
       "        9.33628488, 10.71286744,  9.23754888, 10.32836267, 10.19774638,\n",
       "       10.6522092 , 10.07149584,  9.91995293,  9.26565865, 10.0323799 ,\n",
       "        8.05216741,  9.94625826,  9.91440674,  9.39321289, 10.55165078,\n",
       "       12.23553151,  8.75898186,  9.36478765, 10.32571001,  9.51170802,\n",
       "        9.5680642 , 10.84306788,  9.12218576,  9.4381024 , 10.09186442,\n",
       "        9.44019643,  9.17401447,  7.92665685,  9.51366958, 11.17797053,\n",
       "       11.46944754,  8.54314385, 10.87472738,  9.75606656,  9.18508664,\n",
       "       10.04854227, 10.2155947 , 10.70369688,  9.52816443,  8.82210646,\n",
       "        9.72622768, 10.38613932, 10.44331396,  8.99934908,  9.38537879,\n",
       "        9.02365239,  8.86239539,  9.11635684, 11.40654718,  9.37797497,\n",
       "        9.13396121,  9.74757773,  9.75477004,  9.98462893,  9.91981244,\n",
       "       10.80625449,  9.38456918, 10.25517762, 10.54049522,  9.51210436,\n",
       "       10.41414991,  9.27281112,  8.79599462,  7.40639024, 10.2366193 ,\n",
       "        9.8776848 , 10.60516948,  9.02261113,  9.56621206, 10.06509374,\n",
       "        9.10859302,  9.81636872,  8.79127221,  9.27701286,  9.21172466,\n",
       "       11.64261492,  8.28149492,  8.82966224,  9.60251217, 10.46446075,\n",
       "        9.3307532 ,  9.67369217,  9.76012052, 11.54472043, 10.5400531 ,\n",
       "        8.78325026, 10.67709579, 11.62970371, 10.20486173, 10.61782625,\n",
       "        9.73998376, 10.00990188, 10.48103894, 10.42138234,  8.16694137,\n",
       "       10.66167216, 11.33411947,  7.874503  ,  9.91880423,  8.87966753,\n",
       "       10.50944345,  8.57623043,  8.23468337, 10.12379028, 10.39045473,\n",
       "        9.70566192, 10.94170074,  9.52075746,  9.47649396,  9.67588768,\n",
       "       10.83024318, 10.66945392, 10.52945349,  7.47630227, 11.71836193,\n",
       "       12.1963525 , 10.21147677,  8.54335262,  8.07827577,  9.36359401,\n",
       "       10.56155681,  9.40669679,  9.80022642, 10.141022  ,  9.79786293,\n",
       "       10.20837159, 10.88127576,  9.86662022,  9.27713902,  9.3839861 ,\n",
       "        9.50077602,  9.78129479,  9.60786402, 10.65985507,  9.65800693,\n",
       "        9.3503493 , 11.08424811,  9.32070003, 10.39106942,  8.90675344,\n",
       "       11.36517869,  9.46780791,  9.89875541, 10.70925434,  8.24477427,\n",
       "        9.61030272,  9.76930933, 10.52758237,  8.25723708,  9.20571348,\n",
       "       10.51585583,  9.06328726,  9.81137406, 11.79998371,  8.46263065,\n",
       "        9.51591383,  7.53738341,  8.63247212,  8.63493634, 10.74204441,\n",
       "        9.78898712,  9.51197911, 10.72312523, 11.21728724, 10.35895971,\n",
       "        8.7925457 ,  9.62519832,  9.5747445 ,  9.69192384,  9.13176162,\n",
       "        8.69601727,  9.62274471, 11.25452909, 10.47196502,  9.19915121,\n",
       "        9.55636151, 11.12720609, 11.3141688 ,  8.99571784, 10.17478476,\n",
       "        9.52699301,  7.74624306, 10.88073624,  8.9598767 ,  9.66136818,\n",
       "       10.35854657, 10.83724322,  8.74365994, 11.47296351, 10.72042119,\n",
       "       11.0408321 , 10.0421236 ,  9.26389569,  9.701637  ,  8.5844698 ,\n",
       "        9.55621526,  7.89511176,  8.81931808, 11.32674239, 11.08417176,\n",
       "        9.03030479,  9.51272491, 10.13318388,  9.38279475, 11.33030898,\n",
       "       11.29978809, 11.63992062,  9.37615448, 10.7017881 , 10.95528951,\n",
       "        9.5964339 ,  8.49031119, 10.12743266,  8.26403136,  9.12695318,\n",
       "        8.46788791,  8.17385837,  8.84232557,  8.167447  , 10.92045421,\n",
       "       11.18434879,  8.17023753,  9.71433467,  8.05863887, 12.27120045,\n",
       "       10.56369735,  9.21764047,  9.21670348, 11.03297828,  8.98440794])"
      ]
     },
     "execution_count": 41,
     "metadata": {},
     "output_type": "execute_result"
    }
   ],
   "source": [
    "dist1 = normal(10,1,1000)\n",
    "dist1"
   ]
  },
  {
   "cell_type": "code",
   "execution_count": 40,
   "metadata": {},
   "outputs": [
    {
     "data": {
      "text/plain": [
       "array([ 3.46037344e+01,  1.69450944e+00,  1.87993807e+02, -3.63826582e+01,\n",
       "        4.57328481e+01,  1.06478441e+02,  3.53765362e+00, -9.94565220e+00,\n",
       "       -4.94197843e+01,  1.72075261e+01, -3.23313839e+01, -3.99410361e+01,\n",
       "        1.41945227e+00, -8.83409554e+00, -8.25279723e+00,  1.43208242e+01,\n",
       "       -3.27546034e+01,  6.10555705e+01, -4.84041161e+01, -6.96406578e+00,\n",
       "        1.13971941e+01,  7.82838261e+00,  2.99108903e+01,  2.76620454e+01,\n",
       "       -1.34778319e+01, -3.46317298e+00,  1.24087324e+02,  7.53459619e+00,\n",
       "        1.63993530e+01, -3.44689994e+01, -7.60939456e-02, -9.35353890e+01,\n",
       "        1.69507855e+02,  1.13407106e+01, -1.84590917e-01, -8.04276686e+01,\n",
       "       -1.55379530e+01, -5.22875963e+01, -6.49642950e+00,  5.33477626e+00,\n",
       "       -1.03418667e+01, -6.38191996e+01,  5.83205974e+01,  8.65497161e+01,\n",
       "        4.90489612e+01,  7.87913562e+00, -4.96919959e+01, -4.19850464e+01,\n",
       "       -7.80102705e+01, -4.78258665e+00,  5.42745396e+01,  4.96406342e+01,\n",
       "       -2.70504427e+01,  4.42705997e+01,  2.74868600e+01,  3.35591524e+01,\n",
       "        3.76696133e+01,  2.42668941e+01,  8.88637458e+01,  1.30624553e+02,\n",
       "       -1.14435207e+00,  1.01652708e+02,  3.47030422e+00,  8.51463899e+01,\n",
       "        3.16665803e+01,  1.42153404e+01, -1.61269598e+01,  4.58461898e+01,\n",
       "       -4.68301791e+01,  4.03870312e+01,  3.92776796e+01, -4.27768158e+01,\n",
       "        2.11596249e+01,  4.62275225e+01, -2.37816575e+01, -5.56706828e+00,\n",
       "        3.43741876e+01, -6.93294079e+01, -1.70912411e+01,  5.26461601e+01,\n",
       "       -4.74312510e+01,  4.01892871e+01, -8.51120011e+00,  4.55356583e+00,\n",
       "        6.45697060e+01, -4.85351751e+01,  2.72062700e+01,  7.54669082e+01,\n",
       "        4.23948870e+01, -1.11838680e+02, -3.27043019e+01, -4.42532929e+01,\n",
       "       -2.76665569e+01, -7.80316571e+00, -1.14883358e+01,  9.67943193e+00,\n",
       "        1.39151477e+01,  3.79256722e+01,  2.24883972e+00, -4.86273267e+00,\n",
       "        1.71188329e+01,  2.05196216e+01,  1.56805998e+01,  2.37184365e+01,\n",
       "        1.76044861e+01,  3.14359920e+01, -1.37275672e+02,  5.62806015e+01,\n",
       "       -3.22506501e+00,  4.17597827e+00, -4.89762864e+01, -2.70583009e+01,\n",
       "       -3.20988690e+01, -5.54834669e+01, -2.30507875e+01,  3.21020269e+01,\n",
       "       -9.14911791e+01, -7.06701567e+01,  6.63057665e+01,  1.99370418e+01,\n",
       "        1.69650366e+01,  2.48373205e+01, -3.37449465e-01, -4.52906514e+01,\n",
       "       -2.91253542e+01,  2.15815027e+01,  5.74099066e+01,  7.99048034e+01,\n",
       "        8.82033187e+01,  1.17794711e+02,  3.76327148e+01,  8.57353841e-01,\n",
       "       -1.90088187e+01, -1.50654491e+01, -3.92942841e+00, -6.78241181e-01,\n",
       "       -1.62752763e+01, -7.51789547e+01,  7.07903141e+01, -2.27560623e+01,\n",
       "        4.75435666e+01,  1.19389291e+01,  1.15100234e+01, -8.88029221e+00,\n",
       "        6.86419212e+00,  6.80418716e+01,  7.83463070e+01,  2.90197325e+01,\n",
       "        1.02440062e+02,  9.47036394e+01,  1.37798106e+01, -7.83510425e+01,\n",
       "        3.05083786e+01,  1.12896268e+02,  7.25942750e+01, -1.96745246e+01,\n",
       "        7.39333010e+01,  4.26857149e+00,  6.06236523e+01,  1.75499627e+01,\n",
       "        4.64677457e+01,  4.85625535e+01, -1.12726480e+02,  7.51639721e+01,\n",
       "       -6.00007619e+01, -7.79466632e+00,  2.49717134e+01, -5.67885405e+01,\n",
       "        6.52958611e+01, -2.88016788e+01,  8.54975862e+01, -1.06799545e+01,\n",
       "        5.70729077e+01, -3.31855116e+01,  5.99788374e+01, -3.73865061e+01,\n",
       "       -2.91933526e+01, -1.00244963e+01,  2.35443632e+01,  2.75174913e+01,\n",
       "        2.58007157e+01,  7.77801177e+01,  3.37375349e+01, -5.57005597e+01,\n",
       "       -4.21178686e+01,  2.06961374e+01,  2.39128342e+01, -7.35904506e+01,\n",
       "        8.72241682e+01,  4.87510253e+01, -1.12666382e+02, -1.70083589e+01,\n",
       "        2.93244954e+01,  2.91662346e+01, -2.15176042e+01,  3.31529655e+01,\n",
       "       -1.08936889e+01, -9.83321068e+01, -3.73374774e+00,  1.11788045e+01,\n",
       "        1.44154015e+02,  3.22554266e+01, -1.94520235e+01,  6.63419309e+01,\n",
       "       -1.73220025e+01,  1.47400711e+01, -4.83073719e+01, -2.18722136e+01,\n",
       "        3.56112913e+00,  6.61856146e+01,  5.69009355e+01, -8.44008269e+01,\n",
       "        1.11846719e+02,  4.29697812e+01,  5.30177276e+01,  1.96261613e+01,\n",
       "       -1.66618385e+01,  7.42361557e+01, -5.76868372e+01, -3.87893039e+01,\n",
       "        1.64222529e+01,  7.74699329e+01, -1.23747135e+01,  4.49392848e+01,\n",
       "        7.76265114e+00, -1.90460667e+01,  1.29161566e+01, -2.41853285e+00,\n",
       "        5.98079103e+01, -8.45207855e+01,  9.20862537e+01,  8.76703417e+01,\n",
       "        6.05005685e+01,  6.80806220e+01, -2.75861669e+01,  1.38170564e+02,\n",
       "        2.97707128e+00,  9.78140129e+00, -3.06240616e+00, -2.91045983e+01,\n",
       "        5.51667031e+01,  1.78643104e+01, -9.70601003e+00,  6.38235331e+01,\n",
       "        2.90033781e+01,  6.28478951e+01, -3.00164513e+00, -9.49301246e+01,\n",
       "       -3.26184617e+01, -7.99191639e+01,  1.98706323e+01,  2.92820410e+01,\n",
       "       -1.85347493e+01,  5.53892249e+01, -7.32722033e+01,  7.61164597e+00,\n",
       "       -2.58747015e+00,  5.67637794e+01,  6.15734343e+00,  3.41109607e+01,\n",
       "        9.84658284e+01, -5.74526785e+00,  1.85378794e+01, -5.54337983e+01,\n",
       "        2.33130085e+01,  4.70449818e+01,  4.63132699e+01, -8.46823482e+01,\n",
       "        3.83996202e+01,  3.28831948e+01, -1.25112027e+01,  2.46907751e+01,\n",
       "        1.29855307e+01,  9.54083279e+00, -1.69306526e+01, -2.97900231e+01,\n",
       "        1.08237181e+02, -1.39749755e+01,  5.10978308e+01,  4.77497030e+01,\n",
       "        8.92407117e+00, -1.12633730e+00,  6.39478645e+01,  1.80677562e+01,\n",
       "        3.34796650e+00, -3.47973905e+01, -1.13933879e+01, -1.62102447e+01,\n",
       "        1.51730170e+01, -2.89857218e+01, -2.43208940e+01,  3.79854121e+01,\n",
       "       -6.38009889e+01, -9.00632457e+00, -7.16061243e+00,  3.48059563e+01,\n",
       "        4.88264703e+01,  4.24783040e+01,  9.77752405e+00,  4.49803295e+00,\n",
       "        3.70487006e+01, -2.26466859e+01,  6.50801937e+01,  2.04454603e+01,\n",
       "        1.89607353e+00,  6.16484882e+01, -1.03520776e+00,  4.34502162e+01,\n",
       "       -5.57411599e+00, -4.01112894e+01,  2.02692663e+01,  7.50872303e+01,\n",
       "       -5.18339747e+01,  2.73575353e+01, -1.45233968e+01, -1.76675931e+01,\n",
       "        7.63512084e+00, -3.97857478e+01, -5.12687595e+01,  3.86749446e+01,\n",
       "       -4.41729267e+01, -3.75090351e-01,  2.90115339e+01,  4.39964103e+01,\n",
       "        4.53702233e+00, -3.92462788e+01,  5.98406457e+01, -1.53651417e+01,\n",
       "        2.18142451e+00, -3.40973347e+01, -1.18033909e+01,  5.16931723e+01,\n",
       "       -3.04276597e+01, -9.30575450e+01, -3.08759577e+00, -1.65137977e+01,\n",
       "       -4.95238606e+00,  4.33736309e+00, -8.23508901e+01,  2.17590492e+01,\n",
       "        3.60906378e+01, -1.24975182e+01,  5.49245584e+01, -4.01052180e+00,\n",
       "       -8.60927551e+01,  5.68978666e+01,  4.20498812e+01, -2.19911565e+01,\n",
       "       -6.92243089e+01,  1.50512913e+01,  9.59142798e+01, -6.30297659e+01,\n",
       "       -2.03921052e+01,  6.77901758e+01,  2.73797347e+01, -2.62566826e+01,\n",
       "       -3.50524058e+01, -2.42711618e+01,  6.32517532e+01,  7.14019621e+01,\n",
       "        4.03603870e+00, -2.97893162e+01, -3.61923034e+01, -7.09146448e+01,\n",
       "       -6.99954812e+01, -4.57840511e+00,  3.00068451e+01,  3.73602282e+01,\n",
       "        8.97328912e+01, -1.78692752e+01,  6.98071155e+01,  8.89566142e+01,\n",
       "       -2.95290986e+01, -3.87470496e+01,  3.00617949e+01,  5.04962581e+01,\n",
       "       -6.37209319e+01,  6.95882091e+01, -2.98710062e+01,  6.95079588e+01,\n",
       "        7.78563203e+01,  1.54768468e+01, -9.58544782e+01, -7.01524888e+00,\n",
       "       -4.99245167e+01,  1.17851726e+00,  4.55349311e+01,  2.13081137e+01,\n",
       "        3.33042626e+01,  7.38330931e+01, -2.17393905e+01,  1.39797662e+01,\n",
       "        8.21964286e-01,  1.97371173e+01, -5.02853976e+00, -5.83892505e+01,\n",
       "        4.48934338e+00,  5.68468417e+01,  8.20464543e+01,  3.36213205e+01,\n",
       "       -6.51432851e+01,  6.10725238e+01, -5.61403708e-01,  8.01758054e+01,\n",
       "        3.19616326e+01,  2.49762342e+01,  1.36110037e+01, -8.88447391e+00,\n",
       "        7.59048687e+01,  5.94581628e+01, -4.36433359e+01,  1.45243294e+01,\n",
       "        3.06789748e+01, -7.17159258e+00,  1.41649152e+01,  4.30435986e+01,\n",
       "        1.76231455e+00,  1.50998645e+01,  9.37946852e+01,  7.97878361e+01,\n",
       "        1.10669044e+02, -2.57286549e+01,  1.29469199e+00,  2.38255158e+01,\n",
       "        5.39680993e+00,  5.89363283e+00,  6.63223533e+01,  8.37421111e+00,\n",
       "        5.88206820e+01,  6.11168194e+01,  8.32972318e+01,  1.29853592e+01,\n",
       "        2.99948437e+01,  3.12638617e+01,  4.98276854e+01,  7.95278461e+01,\n",
       "       -1.12752034e+01, -2.19780138e+01,  2.69428716e+01,  5.56961473e+01,\n",
       "        2.66645277e+01,  6.02169038e+01, -6.56770976e+01, -6.48746259e+00,\n",
       "        1.06296373e+02,  4.71216267e+01,  3.71382744e+01, -3.21277753e+01,\n",
       "        5.81604085e-01,  4.17672011e+01,  4.04464274e+01,  2.86442878e+01,\n",
       "       -3.15146016e+01, -3.52693758e+00,  2.43922071e+01,  2.95411699e+01,\n",
       "       -7.41295965e+01, -2.84575830e+01,  8.03833127e+01,  7.24202201e+01,\n",
       "        1.93522038e+00,  1.77179267e+01, -1.61612707e+01, -6.01591392e+01,\n",
       "        3.81157796e+01, -4.92250117e+01,  1.89214005e+01, -4.10460670e+01,\n",
       "        5.54047435e+00, -6.52965989e-01,  1.46950098e+01, -7.16739684e+01,\n",
       "        5.75784290e+01,  1.22162596e+02,  3.14515477e+01, -3.30766594e+01,\n",
       "        3.08922425e+01, -2.21550010e+01,  4.99840896e+01,  3.23236315e+00,\n",
       "        4.60306541e+01,  1.55693566e+01,  1.20106667e+02,  1.03113463e+02,\n",
       "       -7.01819356e+01,  9.16239546e+01, -3.96892707e+01, -5.51775440e+01,\n",
       "       -3.89698116e+01,  7.30578327e+01,  1.56528854e+02,  2.18828921e+01,\n",
       "       -1.64433550e+01,  1.70383922e+01,  4.37419293e+00,  4.70817982e+01,\n",
       "        2.15909244e+00,  5.60439845e+00,  4.13967031e+01,  4.93276858e+01,\n",
       "        4.34874634e+01, -7.79135278e+01,  6.41763396e+00,  7.59584627e+00,\n",
       "        1.70729705e+02,  5.63922211e+00,  5.45146277e+01, -2.13470593e+00,\n",
       "       -8.60579269e+00,  1.42246604e+02, -4.57738439e+01, -7.03527800e+00,\n",
       "       -1.00552781e+02,  7.31359702e+00,  8.07233071e+01,  4.29640976e+01,\n",
       "       -1.07229466e+01, -1.91312600e+00,  3.57283082e+01, -6.08655595e+01,\n",
       "        2.99169968e+01,  1.92449400e+01,  1.38120632e+02,  1.24948390e+01,\n",
       "        1.33577105e+02,  5.59297075e+01,  4.58192551e+01,  1.07441285e+02,\n",
       "        5.34086097e+01,  6.12122388e+01, -1.56926796e+02, -2.60586860e+01,\n",
       "       -9.35782548e+01, -4.57023102e+01,  4.71898110e+01,  1.70363020e+01,\n",
       "        3.94046437e+01,  3.18751202e+01, -3.55056989e+01, -5.59884110e+00,\n",
       "        1.85327226e+01,  2.55426287e+00,  3.11228399e+01, -5.61036692e+01,\n",
       "       -5.47308744e+01,  9.15059902e+01,  7.65030297e+01,  5.40009350e+01,\n",
       "        3.36628254e+01,  3.79832546e+00,  1.04840474e+02, -8.61909802e+00,\n",
       "       -8.28462048e+00,  2.52265692e+01,  2.48494452e+01,  4.93543062e+00,\n",
       "        4.59636712e+01, -4.97730881e+01, -3.65084387e+01, -4.76566358e+00,\n",
       "        2.78669905e+01,  8.38043060e+01,  3.67185016e+01,  3.33265711e+01,\n",
       "        1.58716269e+01, -1.52194871e+01, -4.80211032e+01, -9.48267867e+01,\n",
       "       -9.08161475e+01, -4.29190832e+01,  3.48228339e+01,  3.37234697e+01,\n",
       "        8.77202883e+00,  4.44283561e+01, -3.23813891e+01,  2.50342258e+01,\n",
       "       -5.29373692e+01, -1.50714661e+01,  3.20947978e+01,  8.36909437e+01,\n",
       "        7.54572062e+00,  5.74676064e+00, -1.19784184e+01,  1.67748169e+01,\n",
       "        3.01148512e+01,  4.43425950e+01, -8.26809757e+01,  4.79653891e+01,\n",
       "       -3.90101708e+01,  1.20318133e+02,  3.39481800e+01,  9.79056900e+01,\n",
       "       -3.95251778e+01, -8.64942005e+00, -4.61962016e+01,  2.70299815e+01,\n",
       "        6.39273708e+00,  2.01628714e+01, -2.87844229e+01, -1.82715170e+00,\n",
       "        2.09033378e+01,  9.23056182e+01, -1.48528664e+01, -3.05516375e+01,\n",
       "        7.76418807e-01, -1.62116374e+01, -9.75872069e+00,  5.94383938e+00,\n",
       "        8.49013621e+00, -5.86861217e+01,  6.23058611e+01,  2.02863650e+01,\n",
       "        9.78916259e+01,  2.34133581e+01,  1.11023833e+02, -1.36494425e+01,\n",
       "        3.42761017e+01,  5.88429104e+01,  4.61020757e+01, -4.50369548e+01,\n",
       "       -2.67822099e+01,  7.56754479e+01,  3.76005308e+01, -3.23869320e+01,\n",
       "        7.64161483e+01,  9.35885893e+01,  1.44646997e+01, -5.15626127e+01,\n",
       "        8.04332492e+01, -3.25207829e+01,  9.07297206e+00, -2.19109687e+01,\n",
       "        1.93808755e+01,  6.15790062e+01,  1.33043943e+02, -5.29123379e+01,\n",
       "        3.82704365e+01,  4.18632279e+01,  4.23065610e+01, -4.72993864e+01,\n",
       "        6.61951991e+01, -1.09227140e+01,  1.24211872e+00,  2.24706524e+01,\n",
       "       -5.96337992e+01,  3.85382147e+01, -5.40599578e+01,  1.57751528e+01,\n",
       "        5.16599504e+01, -3.77988617e+01, -2.62063073e+01,  1.03752776e+02,\n",
       "       -5.77360905e-01, -7.94306249e+00, -1.77585147e+01, -1.16118212e+02,\n",
       "        3.71447938e+00, -5.40556916e+01, -2.71550360e+01,  5.47961564e+01,\n",
       "        6.19935034e+01,  3.21535365e+00, -1.69458839e+01,  3.90998118e+01,\n",
       "        4.85912496e+01,  8.32708801e+01, -1.12137954e+01, -1.57646312e+01,\n",
       "       -9.96149329e-01,  2.75535764e+01,  7.12029822e+01, -3.34279641e+01,\n",
       "       -4.47736446e+01,  4.91169840e+01,  2.73585603e+01, -2.32774368e+00,\n",
       "        5.24732248e+01,  2.65151988e+00,  3.41062221e+01, -3.47956260e+00,\n",
       "        4.39460176e+01, -2.03111552e+01,  2.80829714e+01,  9.04115529e+01,\n",
       "        3.57597167e+01,  7.11217655e+01,  6.78833981e+01,  1.81505736e+01,\n",
       "       -5.74875866e+01,  1.16003772e+01, -3.89666677e+01,  9.58695524e+00,\n",
       "        2.06368748e+01,  1.71933216e+01,  4.13128125e+01, -1.52760226e+01,\n",
       "        4.57642226e+00, -7.71464835e+01,  9.02512809e+01,  9.76798527e+01,\n",
       "        6.16680103e+01, -4.08288080e+00,  7.40849006e+01, -7.97375187e+01,\n",
       "        1.64796527e+01, -5.40048562e+01,  9.31171772e+01,  6.84168762e+00,\n",
       "        7.41057365e+01, -7.05318940e+00,  1.05399539e+02,  2.66465582e+01,\n",
       "       -2.76186110e+01,  2.00611030e+01,  7.46219885e+01,  6.84327654e+01,\n",
       "        8.65543572e+00,  8.09340123e+01,  6.89193814e+01,  3.89089383e+01,\n",
       "       -5.89331753e+01,  2.13784743e+01,  1.39112245e+02,  2.43674236e+01,\n",
       "        7.04668723e+01, -7.14340857e+01, -2.42926864e+01, -4.77834659e+01,\n",
       "       -6.55931872e+00, -7.10427571e+01,  7.35840929e-01, -2.44059492e+01,\n",
       "       -6.37635454e+01, -1.89175704e+01, -1.07996462e+02, -6.17204082e+01,\n",
       "        3.87050760e+00,  7.51445146e+01,  1.34611312e+01, -2.33687333e+01,\n",
       "        4.08990662e+00, -5.13262405e+01, -2.42885052e+00,  4.36110920e+01,\n",
       "        4.55386254e+01, -3.72292887e+01,  8.97291717e+01,  5.90925810e+00,\n",
       "       -5.07225465e+01,  1.18376419e+01, -1.51416825e+01,  9.29508754e+01,\n",
       "       -9.80709630e+01, -4.78189743e+01, -6.42281861e+01,  5.86118418e+01,\n",
       "       -4.09387629e+01,  3.20326061e+01,  3.94207501e-02,  6.30058519e+00,\n",
       "       -5.87524153e+01,  1.94575910e+01,  2.74825438e+00, -6.33963062e+00,\n",
       "        6.33611354e+01, -9.87235607e-01,  1.16517022e+02,  8.95999680e+00,\n",
       "       -5.89112327e+01,  9.62575490e+01,  1.47851922e+00,  4.91419822e+01,\n",
       "       -6.72943987e+01,  3.40380461e+01, -1.98967349e+00,  3.25715545e+01,\n",
       "       -4.81495712e+01,  1.46474019e+01, -3.24255809e+00,  3.96833016e+01,\n",
       "       -1.18459259e+02, -3.33751568e+00,  9.57604056e+01, -3.75047022e+01,\n",
       "        1.12347924e+01, -1.30833482e+01,  1.40943281e+01,  2.90960911e+01,\n",
       "        6.45880386e+01,  2.18669090e+00, -4.44868811e+01,  4.52019748e+01,\n",
       "        9.48041420e+01,  1.44722623e+02, -1.17491892e+02,  9.41434336e+01,\n",
       "       -5.73672188e+01, -3.63263010e+01,  2.42852104e+01,  4.54748610e+01,\n",
       "       -1.01467843e+01, -1.25497854e+00,  3.80822211e+01,  3.96555795e+01,\n",
       "        6.98272597e+00, -2.65468648e+00,  8.14496472e+01, -7.75589656e+01,\n",
       "        2.58257010e+01, -6.83438146e+01,  2.91658214e+01, -1.20665072e+01,\n",
       "        6.11603614e+01, -2.22585337e+01, -1.21603721e+01,  8.71659523e+01,\n",
       "       -3.32520994e+00,  2.11930671e+01,  9.29945751e+01,  3.54377810e+01,\n",
       "       -7.63797761e+00,  8.63102178e+01,  6.29457888e+01,  5.35518821e+01,\n",
       "        6.24233290e+01,  9.74691904e+00,  5.48741895e+01,  1.72229311e+01,\n",
       "       -2.54717546e+01, -9.92464302e+00,  1.60721238e+01, -1.29679283e+02,\n",
       "        3.99502016e+01, -1.95705546e+01,  2.26847071e+01, -7.97148361e+01,\n",
       "       -6.40982697e+00, -1.52057249e+01,  6.45363902e+01,  1.69368689e+00,\n",
       "        1.44167603e+01, -1.11972721e+02, -3.27938746e+01,  1.90965236e+01,\n",
       "        9.15451117e+01,  6.26933458e+01,  8.15114401e+00, -3.65892295e+01,\n",
       "       -5.50954454e+01, -4.09600448e+01,  3.30706852e+01,  1.60844914e+01,\n",
       "        1.13290528e+00,  4.03379008e+01,  9.72610208e+00,  6.56686389e+01,\n",
       "       -4.21310240e+01,  1.28128797e+01, -6.51374693e+00, -7.12772818e+01,\n",
       "        7.64457495e+01, -6.65880453e+01, -2.17256861e+01,  6.98654961e+01,\n",
       "        6.07508128e+00, -4.96199322e+01,  6.74538450e+01,  1.55523963e+01,\n",
       "        4.21387304e+01, -3.36659379e+01,  4.55944155e+01, -4.06915594e+01,\n",
       "       -3.64739169e+01, -5.47272714e+01,  7.01804050e+00, -8.16385185e+00,\n",
       "        1.39458333e+01,  5.81710946e+01, -2.01393769e+01,  5.65032481e+01,\n",
       "        5.96216656e+01, -1.17242221e+02,  5.07699994e+01,  8.33055613e+01,\n",
       "        3.92149851e+01,  1.06849283e+01,  1.33120805e+01,  2.57720612e-01,\n",
       "        7.34497967e+01,  3.26134415e+01,  6.07925959e+01,  1.16080996e+01,\n",
       "        1.27166370e+01, -9.28562167e+01,  5.65172954e+01, -3.72529702e+01,\n",
       "        3.01051468e+01, -6.96823048e+01,  5.76886624e+01, -1.61414221e+01,\n",
       "       -2.84107004e+00,  4.19163872e+01,  9.89307846e+01,  4.49962322e+01,\n",
       "        2.03717803e+00, -9.68308974e+00, -7.43990898e+01, -4.07291297e+01,\n",
       "        3.46396901e+01, -3.16859584e+01,  9.74455203e+01,  1.78361007e+01,\n",
       "       -2.87140281e+01, -4.64108081e+01,  7.22735052e+01,  2.98527211e+00,\n",
       "       -2.63613469e+01, -5.91499908e+01, -7.54046238e+01,  1.37910040e+02,\n",
       "       -5.12836361e+01, -2.48549724e+01,  1.10356755e+02,  1.83418724e+00,\n",
       "        2.96917988e+00, -6.82110731e+01, -4.50825658e+01, -3.72682771e+01,\n",
       "        7.33704340e+00,  1.93658002e+01, -6.33598124e+00,  3.42660044e+01,\n",
       "        7.48223841e+01,  6.89682655e+01,  1.57539981e+00,  2.40758720e+01,\n",
       "        2.37795138e+01,  3.13796350e+01, -4.66102343e+01,  6.05530144e+00,\n",
       "       -1.11224382e+02, -1.31207876e+01, -2.33199364e+01,  8.48381864e+00,\n",
       "        3.18730265e+01,  3.73722278e+01,  4.85655042e+01, -8.45695559e+00,\n",
       "       -1.42253789e+01,  4.50488198e+01,  5.72184436e+01, -1.00793681e+01,\n",
       "       -2.38282767e+01, -3.91205861e+01,  2.29449706e+01,  6.93835443e+00,\n",
       "        3.86901891e+01,  3.39701187e+01,  5.63851486e+01, -5.88389363e+01,\n",
       "        1.58418251e+01, -2.13180967e+01,  8.17393372e+01,  3.26794406e+01,\n",
       "       -1.55017607e+01,  1.01973980e+02,  1.30678587e+01,  4.54172057e+01,\n",
       "       -4.76002934e+00,  5.39977421e+01,  8.45945302e+01,  2.25114537e+01,\n",
       "        7.57982169e+01, -4.04656040e+01,  3.66896299e+01,  2.92727767e+00,\n",
       "       -8.86452812e+00,  6.22657371e+00, -2.35126479e+00,  6.42197900e+01,\n",
       "        2.13555161e+01, -4.00099652e+01,  2.48790420e+01,  7.22225705e+01,\n",
       "        1.09292670e+01, -5.80187898e+00,  4.54054724e+01,  2.78099064e+01,\n",
       "       -1.35979778e+01, -5.39375860e+01, -2.28694200e+01,  4.16884346e+01,\n",
       "       -9.81617244e+01,  2.27753310e+01,  2.22631066e+01, -3.07867105e+01,\n",
       "        5.04462239e-01, -1.14564482e+02, -5.04725331e+01, -2.12953698e+01])"
      ]
     },
     "execution_count": 40,
     "metadata": {},
     "output_type": "execute_result"
    }
   ],
   "source": [
    "dist2 = normal(10,50,1000)\n",
    "dist2"
   ]
  },
  {
   "cell_type": "markdown",
   "metadata": {},
   "source": [
    "How are the two distributions different?"
   ]
  },
  {
   "cell_type": "code",
   "execution_count": 42,
   "metadata": {
    "scrolled": true
   },
   "outputs": [
    {
     "data": {
      "image/png": "[encoded data removed]",
      "text/plain": [
       "<Figure size 432x288 with 1 Axes>"
      ]
     },
     "metadata": {
      "needs_background": "light"
     },
     "output_type": "display_data"
    }
   ],
   "source": [
    "sns.histplot(dist1, bins=100);"
   ]
  },
  {
   "cell_type": "code",
   "execution_count": 43,
   "metadata": {
    "scrolled": false
   },
   "outputs": [
    {
     "data": {
      "image/png": "[encoded data removed]",
      "text/plain": [
       "<Figure size 432x288 with 1 Axes>"
      ]
     },
     "metadata": {
      "needs_background": "light"
     },
     "output_type": "display_data"
    }
   ],
   "source": [
    "sns.histplot(dist2, bins=100);"
   ]
  },
  {
   "cell_type": "markdown",
   "metadata": {},
   "source": [
    "## Normal Distribution of Real Data\n",
    "\n",
    "In this challenge we are going to take a look the real data. We will use vehicles.csv file for this exercise"
   ]
  },
  {
   "cell_type": "markdown",
   "metadata": {},
   "source": [
    "First import vehicles.csv.\n",
    "Then plot the histograms for the following variables:\n",
    "\n",
    "1. Fuel Barrels/Year"
   ]
  },
  {
   "cell_type": "code",
   "execution_count": 51,
   "metadata": {
    "scrolled": true
   },
   "outputs": [
    {
     "data": {
      "text/html": [
       "<div>\n",
       "<style scoped>\n",
       "    .dataframe tbody tr th:only-of-type {\n",
       "        vertical-align: middle;\n",
       "    }\n",
       "\n",
       "    .dataframe tbody tr th {\n",
       "        vertical-align: top;\n",
       "    }\n",
       "\n",
       "    .dataframe thead th {\n",
       "        text-align: right;\n",
       "    }\n",
       "</style>\n",
       "<table border=\"1\" class=\"dataframe\">\n",
       "  <thead>\n",
       "    <tr style=\"text-align: right;\">\n",
       "      <th></th>\n",
       "      <th>Make</th>\n",
       "      <th>Model</th>\n",
       "      <th>Year</th>\n",
       "      <th>Engine Displacement</th>\n",
       "      <th>Cylinders</th>\n",
       "      <th>Transmission</th>\n",
       "      <th>Drivetrain</th>\n",
       "      <th>Vehicle Class</th>\n",
       "      <th>Fuel Type</th>\n",
       "      <th>Fuel Barrels/Year</th>\n",
       "      <th>City MPG</th>\n",
       "      <th>Highway MPG</th>\n",
       "      <th>Combined MPG</th>\n",
       "      <th>CO2 Emission Grams/Mile</th>\n",
       "      <th>Fuel Cost/Year</th>\n",
       "    </tr>\n",
       "  </thead>\n",
       "  <tbody>\n",
       "    <tr>\n",
       "      <th>0</th>\n",
       "      <td>AM General</td>\n",
       "      <td>DJ Po Vehicle 2WD</td>\n",
       "      <td>1984</td>\n",
       "      <td>2.5</td>\n",
       "      <td>4.0</td>\n",
       "      <td>Automatic 3-spd</td>\n",
       "      <td>2-Wheel Drive</td>\n",
       "      <td>Special Purpose Vehicle 2WD</td>\n",
       "      <td>Regular</td>\n",
       "      <td>19.388824</td>\n",
       "      <td>18</td>\n",
       "      <td>17</td>\n",
       "      <td>17</td>\n",
       "      <td>522.764706</td>\n",
       "      <td>1950</td>\n",
       "    </tr>\n",
       "    <tr>\n",
       "      <th>1</th>\n",
       "      <td>AM General</td>\n",
       "      <td>FJ8c Post Office</td>\n",
       "      <td>1984</td>\n",
       "      <td>4.2</td>\n",
       "      <td>6.0</td>\n",
       "      <td>Automatic 3-spd</td>\n",
       "      <td>2-Wheel Drive</td>\n",
       "      <td>Special Purpose Vehicle 2WD</td>\n",
       "      <td>Regular</td>\n",
       "      <td>25.354615</td>\n",
       "      <td>13</td>\n",
       "      <td>13</td>\n",
       "      <td>13</td>\n",
       "      <td>683.615385</td>\n",
       "      <td>2550</td>\n",
       "    </tr>\n",
       "    <tr>\n",
       "      <th>2</th>\n",
       "      <td>AM General</td>\n",
       "      <td>Post Office DJ5 2WD</td>\n",
       "      <td>1985</td>\n",
       "      <td>2.5</td>\n",
       "      <td>4.0</td>\n",
       "      <td>Automatic 3-spd</td>\n",
       "      <td>Rear-Wheel Drive</td>\n",
       "      <td>Special Purpose Vehicle 2WD</td>\n",
       "      <td>Regular</td>\n",
       "      <td>20.600625</td>\n",
       "      <td>16</td>\n",
       "      <td>17</td>\n",
       "      <td>16</td>\n",
       "      <td>555.437500</td>\n",
       "      <td>2100</td>\n",
       "    </tr>\n",
       "    <tr>\n",
       "      <th>3</th>\n",
       "      <td>AM General</td>\n",
       "      <td>Post Office DJ8 2WD</td>\n",
       "      <td>1985</td>\n",
       "      <td>4.2</td>\n",
       "      <td>6.0</td>\n",
       "      <td>Automatic 3-spd</td>\n",
       "      <td>Rear-Wheel Drive</td>\n",
       "      <td>Special Purpose Vehicle 2WD</td>\n",
       "      <td>Regular</td>\n",
       "      <td>25.354615</td>\n",
       "      <td>13</td>\n",
       "      <td>13</td>\n",
       "      <td>13</td>\n",
       "      <td>683.615385</td>\n",
       "      <td>2550</td>\n",
       "    </tr>\n",
       "    <tr>\n",
       "      <th>4</th>\n",
       "      <td>ASC Incorporated</td>\n",
       "      <td>GNX</td>\n",
       "      <td>1987</td>\n",
       "      <td>3.8</td>\n",
       "      <td>6.0</td>\n",
       "      <td>Automatic 4-spd</td>\n",
       "      <td>Rear-Wheel Drive</td>\n",
       "      <td>Midsize Cars</td>\n",
       "      <td>Premium</td>\n",
       "      <td>20.600625</td>\n",
       "      <td>14</td>\n",
       "      <td>21</td>\n",
       "      <td>16</td>\n",
       "      <td>555.437500</td>\n",
       "      <td>2550</td>\n",
       "    </tr>\n",
       "  </tbody>\n",
       "</table>\n",
       "</div>"
      ],
      "text/plain": [
       "               Make                Model  Year  Engine Displacement  \\\n",
       "0        AM General    DJ Po Vehicle 2WD  1984                  2.5   \n",
       "1        AM General     FJ8c Post Office  1984                  4.2   \n",
       "2        AM General  Post Office DJ5 2WD  1985                  2.5   \n",
       "3        AM General  Post Office DJ8 2WD  1985                  4.2   \n",
       "4  ASC Incorporated                  GNX  1987                  3.8   \n",
       "\n",
       "   Cylinders     Transmission        Drivetrain                Vehicle Class  \\\n",
       "0        4.0  Automatic 3-spd     2-Wheel Drive  Special Purpose Vehicle 2WD   \n",
       "1        6.0  Automatic 3-spd     2-Wheel Drive  Special Purpose Vehicle 2WD   \n",
       "2        4.0  Automatic 3-spd  Rear-Wheel Drive  Special Purpose Vehicle 2WD   \n",
       "3        6.0  Automatic 3-spd  Rear-Wheel Drive  Special Purpose Vehicle 2WD   \n",
       "4        6.0  Automatic 4-spd  Rear-Wheel Drive                 Midsize Cars   \n",
       "\n",
       "  Fuel Type  Fuel Barrels/Year  City MPG  Highway MPG  Combined MPG  \\\n",
       "0   Regular          19.388824        18           17            17   \n",
       "1   Regular          25.354615        13           13            13   \n",
       "2   Regular          20.600625        16           17            16   \n",
       "3   Regular          25.354615        13           13            13   \n",
       "4   Premium          20.600625        14           21            16   \n",
       "\n",
       "   CO2 Emission Grams/Mile  Fuel Cost/Year  \n",
       "0               522.764706            1950  \n",
       "1               683.615385            2550  \n",
       "2               555.437500            2100  \n",
       "3               683.615385            2550  \n",
       "4               555.437500            2550  "
      ]
     },
     "execution_count": 51,
     "metadata": {},
     "output_type": "execute_result"
    }
   ],
   "source": [
    "import pandas as pd\n",
    "vehicles = pd.read_csv('./vehicles.csv')\n",
    "vehicles.head()"
   ]
  },
  {
   "cell_type": "code",
   "execution_count": 50,
   "metadata": {},
   "outputs": [
    {
     "data": {
      "image/png": "[encoded data removed]",
      "text/plain": [
       "<Figure size 432x288 with 1 Axes>"
      ]
     },
     "metadata": {
      "needs_background": "light"
     },
     "output_type": "display_data"
    }
   ],
   "source": [
    "sns.histplot(vehicles['Fuel Barrels/Year'], bins=50);"
   ]
  },
  {
   "cell_type": "markdown",
   "metadata": {},
   "source": [
    "2. CO2 Emission Grams/Mile "
   ]
  },
  {
   "cell_type": "code",
   "execution_count": 52,
   "metadata": {},
   "outputs": [
    {
     "data": {
      "image/png": "[encoded data removed]",
      "text/plain": [
       "<Figure size 432x288 with 1 Axes>"
      ]
     },
     "metadata": {
      "needs_background": "light"
     },
     "output_type": "display_data"
    }
   ],
   "source": [
    "sns.histplot(vehicles['CO2 Emission Grams/Mile'], bins=50);"
   ]
  },
  {
   "cell_type": "markdown",
   "metadata": {},
   "source": [
    "3. Combined MPG"
   ]
  },
  {
   "cell_type": "code",
   "execution_count": 53,
   "metadata": {},
   "outputs": [
    {
     "data": {
      "image/png": "[encoded data removed]",
      "text/plain": [
       "<Figure size 432x288 with 1 Axes>"
      ]
     },
     "metadata": {
      "needs_background": "light"
     },
     "output_type": "display_data"
    }
   ],
   "source": [
    "sns.histplot(vehicles['Combined MPG'], bins=50);"
   ]
  },
  {
   "cell_type": "code",
   "execution_count": 54,
   "metadata": {},
   "outputs": [
    {
     "data": {
      "text/plain": [
       "19.92932242990654"
      ]
     },
     "execution_count": 54,
     "metadata": {},
     "output_type": "execute_result"
    }
   ],
   "source": [
    "vehicles['Combined MPG'].mean() #Por curiosidad"
   ]
  },
  {
   "cell_type": "markdown",
   "metadata": {},
   "source": [
    "Which one(s) of the variables are nearly normally distributed? How do you know?"
   ]
  },
  {
   "cell_type": "code",
   "execution_count": 57,
   "metadata": {
    "scrolled": true
   },
   "outputs": [],
   "source": [
    "# Fuel Barrels/Year\n",
    "media = vehicles['Fuel Barrels/Year'].mean()"
   ]
  },
  {
   "cell_type": "code",
   "execution_count": 58,
   "metadata": {
    "scrolled": true
   },
   "outputs": [],
   "source": [
    "desv = vehicles['Fuel Barrels/Year'].std()"
   ]
  },
  {
   "cell_type": "code",
   "execution_count": 61,
   "metadata": {},
   "outputs": [
    {
     "data": {
      "text/plain": [
       "(13.14177281603188, 22.07633818862587)"
      ]
     },
     "execution_count": 61,
     "metadata": {},
     "output_type": "execute_result"
    }
   ],
   "source": [
    "media-desv, media+desv"
   ]
  },
  {
   "cell_type": "code",
   "execution_count": 63,
   "metadata": {
    "scrolled": true
   },
   "outputs": [
    {
     "data": {
      "text/plain": [
       "(8.674490129734885, 26.543620874922865)"
      ]
     },
     "execution_count": 63,
     "metadata": {},
     "output_type": "execute_result"
    }
   ],
   "source": [
    "media-2*desv, media+2*desv"
   ]
  },
  {
   "cell_type": "code",
   "execution_count": 68,
   "metadata": {},
   "outputs": [
    {
     "data": {
      "text/plain": [
       "0.7444370271473075"
      ]
     },
     "execution_count": 68,
     "metadata": {},
     "output_type": "execute_result"
    }
   ],
   "source": [
    "contador = 0\n",
    "for num in vehicles['Fuel Barrels/Year']:\n",
    "    if num >= media-desv and num <= media+desv:\n",
    "        contador += 1\n",
    "        \n",
    "contador/len(vehicles['Fuel Barrels/Year']) # No es necesario hacerlo pero tengo curiosidad..."
   ]
  },
  {
   "cell_type": "code",
   "execution_count": 70,
   "metadata": {},
   "outputs": [
    {
     "data": {
      "text/plain": [
       "0.7117823765020027"
      ]
     },
     "execution_count": 70,
     "metadata": {},
     "output_type": "execute_result"
    }
   ],
   "source": [
    "# CO2 Emission Grams/Mile \n",
    "media = vehicles['CO2 Emission Grams/Mile'].mean()\n",
    "desv = vehicles['CO2 Emission Grams/Mile'].std()\n",
    "\n",
    "contador = 0\n",
    "for num in vehicles['CO2 Emission Grams/Mile']:\n",
    "    if num >= media-desv and num <= media+desv:\n",
    "        contador += 1\n",
    "        \n",
    "contador/len(vehicles['CO2 Emission Grams/Mile'])"
   ]
  },
  {
   "cell_type": "code",
   "execution_count": 71,
   "metadata": {},
   "outputs": [
    {
     "data": {
      "text/plain": [
       "0.7491377392078327"
      ]
     },
     "execution_count": 71,
     "metadata": {},
     "output_type": "execute_result"
    }
   ],
   "source": [
    "# Combined MPG\n",
    "media = vehicles['Combined MPG'].mean()\n",
    "desv = vehicles['Combined MPG'].std()\n",
    "\n",
    "contador = 0\n",
    "for num in vehicles['Combined MPG']:\n",
    "    if num >= media-desv and num <= media+desv:\n",
    "        contador += 1\n",
    "        \n",
    "contador/len(vehicles['Combined MPG'])"
   ]
  },
  {
   "cell_type": "code",
   "execution_count": null,
   "metadata": {},
   "outputs": [],
   "source": [
    "# Las 3 siguen más o menos una distribución normal. Quizá la de CO2 Emission Grams/Mile un poco más."
   ]
  },
  {
   "cell_type": "markdown",
   "metadata": {},
   "source": [
    "## Exponential Distribution"
   ]
  },
  {
   "cell_type": "markdown",
   "metadata": {},
   "source": [
    "1. Using `numpy.random.exponential`, create a function that returns a list of numbers exponentially distributed with the mean of 10. \n",
    "\n",
    "1. Use the function to generate two number sequences with the size of 10 and 100.\n",
    "\n",
    "1. Plot the distributions as histograms with the nubmer of bins as 100.\n",
    "\n",
    "Your output should look like below:\n",
    "\n",
    "![exponential distribution](ed.png)"
   ]
  },
  {
   "cell_type": "code",
   "execution_count": 78,
   "metadata": {},
   "outputs": [],
   "source": [
    "from scipy.stats import expon\n",
    "\n",
    "def exponen(size):\n",
    "    return (expon(scale=10)).rvs(size=size)    "
   ]
  },
  {
   "cell_type": "code",
   "execution_count": 87,
   "metadata": {
    "scrolled": false
   },
   "outputs": [],
   "source": [
    "muestra1 = exponen(10)"
   ]
  },
  {
   "cell_type": "code",
   "execution_count": 83,
   "metadata": {},
   "outputs": [],
   "source": [
    "muestra2 = exponen(1000)"
   ]
  },
  {
   "cell_type": "code",
   "execution_count": 88,
   "metadata": {
    "scrolled": true
   },
   "outputs": [
    {
     "data": {
      "image/png": "[encoded data removed]",
      "text/plain": [
       "<Figure size 432x288 with 1 Axes>"
      ]
     },
     "metadata": {
      "needs_background": "light"
     },
     "output_type": "display_data"
    }
   ],
   "source": [
    "sns.histplot(muestra1, bins=100);"
   ]
  },
  {
   "cell_type": "code",
   "execution_count": 89,
   "metadata": {},
   "outputs": [
    {
     "data": {
      "image/png": "[encoded data removed]",
      "text/plain": [
       "<Figure size 432x288 with 1 Axes>"
      ]
     },
     "metadata": {
      "needs_background": "light"
     },
     "output_type": "display_data"
    }
   ],
   "source": [
    "sns.histplot(muestra2, bins=100);"
   ]
  },
  {
   "cell_type": "markdown",
   "metadata": {},
   "source": [
    "How are the two distributions different?"
   ]
  },
  {
   "cell_type": "code",
   "execution_count": null,
   "metadata": {},
   "outputs": [],
   "source": [
    "# Que la muestra1 no tiene ningún sentido al ser tan pequeña. Canto más grande más se adapta a la distribución exponencial."
   ]
  },
  {
   "cell_type": "markdown",
   "metadata": {},
   "source": [
    "## Exponential Distribution of Real Data\n",
    "\n",
    "Suppose that the amount of time one spends in a bank is exponentially distributed with mean as 10 minutes (i.e. λ = 1/10). What is the probability that a customer will spend less than fifteen minutes in the bank? \n",
    "\n",
    "Write a code in python to solve this problem"
   ]
  },
  {
   "cell_type": "code",
   "execution_count": 107,
   "metadata": {
    "scrolled": true
   },
   "outputs": [],
   "source": [
    "exp = expon(scale=10)"
   ]
  },
  {
   "cell_type": "markdown",
   "metadata": {},
   "source": [
    "What is the probability that the customer will spend more than 15 minutes"
   ]
  },
  {
   "cell_type": "code",
   "execution_count": 112,
   "metadata": {},
   "outputs": [
    {
     "data": {
      "text/plain": [
       "0.7768698398515702"
      ]
     },
     "execution_count": 112,
     "metadata": {},
     "output_type": "execute_result"
    }
   ],
   "source": [
    "exp.cdf(15)"
   ]
  },
  {
   "cell_type": "code",
   "execution_count": 101,
   "metadata": {
    "scrolled": true
   },
   "outputs": [
    {
     "data": {
      "image/png": "[encoded data removed]",
      "text/plain": [
       "<Figure size 432x288 with 1 Axes>"
      ]
     },
     "metadata": {
      "needs_background": "light"
     },
     "output_type": "display_data"
    }
   ],
   "source": [
    "sns.histplot(exp.rvs(size=1000));"
   ]
  },
  {
   "cell_type": "code",
   "execution_count": 115,
   "metadata": {},
   "outputs": [
    {
     "data": {
      "text/plain": [
       "0.777"
      ]
     },
     "execution_count": 115,
     "metadata": {},
     "output_type": "execute_result"
    }
   ],
   "source": [
    "contador = 0\n",
    "for num in exp.rvs(size=1000):\n",
    "    if num <= 15:\n",
    "        contador += 1\n",
    "contador/len(exp.rvs(size=1000))"
   ]
  }
 ],
 "metadata": {
  "kernelspec": {
   "display_name": "Python 3 (ipykernel)",
   "language": "python",
   "name": "python3"
  },
  "language_info": {
   "codemirror_mode": {
    "name": "ipython",
    "version": 3
   },
   "file_extension": ".py",
   "mimetype": "text/x-python",
   "name": "python",
   "nbconvert_exporter": "python",
   "pygments_lexer": "ipython3",
   "version": "3.9.12"
  },
  "toc": {
   "base_numbering": 1,
   "nav_menu": {},
   "number_sections": true,
   "sideBar": true,
   "skip_h1_title": false,
   "title_cell": "Table of Contents",
   "title_sidebar": "Contents",
   "toc_cell": true,
   "toc_position": {},
   "toc_section_display": true,
   "toc_window_display": false
  },
  "varInspector": {
   "cols": {
    "lenName": 16,
    "lenType": 16,
    "lenVar": 40
   },
   "kernels_config": {
    "python": {
     "delete_cmd_postfix": "",
     "delete_cmd_prefix": "del ",
     "library": "var_list.py",
     "varRefreshCmd": "print(var_dic_list())"
    },
    "r": {
     "delete_cmd_postfix": ") ",
     "delete_cmd_prefix": "rm(",
     "library": "var_list.r",
     "varRefreshCmd": "cat(var_dic_list()) "
    }
   },
   "types_to_exclude": [
    "module",
    "function",
    "builtin_function_or_method",
    "instance",
    "_Feature"
   ],
   "window_display": false
  }
 },
 "nbformat": 4,
 "nbformat_minor": 2
}
